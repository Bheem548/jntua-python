{
  "nbformat": 4,
  "nbformat_minor": 0,
  "metadata": {
    "colab": {
      "name": "Untitled2.ipynb",
      "provenance": [],
      "authorship_tag": "ABX9TyPwliWQEgfLemJbiPwhtOHR",
      "include_colab_link": true
    },
    "kernelspec": {
      "name": "python3",
      "display_name": "Python 3"
    }
  },
  "cells": [
    {
      "cell_type": "markdown",
      "metadata": {
        "id": "view-in-github",
        "colab_type": "text"
      },
      "source": [
        "<a href=\"https://colab.research.google.com/github/Bheem548/jntua-python/blob/master/Untitled2.ipynb\" target=\"_parent\"><img src=\"https://colab.research.google.com/assets/colab-badge.svg\" alt=\"Open In Colab\"/></a>"
      ]
    },
    {
      "cell_type": "code",
      "metadata": {
        "id": "sYuwfXmFgdCc",
        "colab_type": "code",
        "colab": {
          "base_uri": "https://localhost:8080/",
          "height": 153
        },
        "outputId": "803d6d42-733d-4391-b8ba-a988df8e5adb"
      },
      "source": [
        "li=[1,2,3,4,5,6]\n",
        "print(max(li))\n",
        "print(min(li))\n",
        "print(sum(li))\n",
        "li.append(52)\n",
        "print(li)\n",
        "li.insert(7,9)\n",
        "print(li)\n",
        "li.count(3)\n",
        "print(li.index(5))\n",
        "li.sort()\n",
        "print(li)\n",
        "li.pop(5)\n",
        "print(li)\n"
      ],
      "execution_count": 13,
      "outputs": [
        {
          "output_type": "stream",
          "text": [
            "6\n",
            "1\n",
            "21\n",
            "[1, 2, 3, 4, 5, 6, 52]\n",
            "[1, 2, 3, 4, 5, 6, 52, 9]\n",
            "4\n",
            "[1, 2, 3, 4, 5, 6, 9, 52]\n",
            "[1, 2, 3, 4, 5, 9, 52]\n"
          ],
          "name": "stdout"
        }
      ]
    },
    {
      "cell_type": "code",
      "metadata": {
        "id": "GnrZ7IL5ggws",
        "colab_type": "code",
        "colab": {
          "base_uri": "https://localhost:8080/",
          "height": 34
        },
        "outputId": "8cca5ff3-50c8-47f9-9f75-d31b0648cec5"
      },
      "source": [
        "li=[11,2,3,4,3,7,55,10]\n",
        "\n",
        "def largenumber(li):\n",
        "  li.sort()\n",
        "  return li[-1]\n",
        "largenumber(li)\n",
        "def genericlarge(li,n):\n",
        "  li.sort()\n",
        "  return li[-n]\n",
        "print(genericlarge(li,2))\n"
      ],
      "execution_count": 18,
      "outputs": [
        {
          "output_type": "stream",
          "text": [
            "11\n"
          ],
          "name": "stdout"
        }
      ]
    },
    {
      "cell_type": "code",
      "metadata": {
        "id": "B6AZEWczlIcH",
        "colab_type": "code",
        "colab": {
          "base_uri": "https://localhost:8080/",
          "height": 34
        },
        "outputId": "b1b9441a-fc4f-4436-e27a-59179b821a09"
      },
      "source": [
        "#small\n",
        "#generic small\n",
        "\n",
        "li =[1,2,3,4,3,2,3,0]\n",
        "def small(li):\n",
        "  li.sort()\n",
        "  return li[0]\n",
        "\n",
        "small(li)\n",
        "\n",
        "def genericsmall(li,n):\n",
        "  li.sort()\n",
        "  return li[n-1]\n",
        "genericsmall(li,2)"
      ],
      "execution_count": 29,
      "outputs": [
        {
          "output_type": "execute_result",
          "data": {
            "text/plain": [
              "1"
            ]
          },
          "metadata": {
            "tags": []
          },
          "execution_count": 29
        }
      ]
    },
    {
      "cell_type": "code",
      "metadata": {
        "id": "plzziZ6DmGcJ",
        "colab_type": "code",
        "colab": {}
      },
      "source": [
        ""
      ],
      "execution_count": 0,
      "outputs": []
    }
  ]
}