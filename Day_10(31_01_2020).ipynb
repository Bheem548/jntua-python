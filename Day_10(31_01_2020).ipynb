{
  "nbformat": 4,
  "nbformat_minor": 0,
  "metadata": {
    "colab": {
      "name": "Day-10(31-01-2020).ipynb",
      "provenance": [],
      "authorship_tag": "ABX9TyPeVj0GM5d3TaVyQt163u6M",
      "include_colab_link": true
    },
    "kernelspec": {
      "name": "python3",
      "display_name": "Python 3"
    }
  },
  "cells": [
    {
      "cell_type": "markdown",
      "metadata": {
        "id": "view-in-github",
        "colab_type": "text"
      },
      "source": [
        "<a href=\"https://colab.research.google.com/github/Bheem548/jntua-python/blob/master/Day_10(31_01_2020).ipynb\" target=\"_parent\"><img src=\"https://colab.research.google.com/assets/colab-badge.svg\" alt=\"Open In Colab\"/></a>"
      ]
    },
    {
      "cell_type": "markdown",
      "metadata": {
        "id": "lF1GZr9VyN3o",
        "colab_type": "text"
      },
      "source": [
        "#**Loops**\n",
        "* While loop\n",
        "* for loop"
      ]
    },
    {
      "cell_type": "markdown",
      "metadata": {
        "id": "lZNYrz9uyaVS",
        "colab_type": "text"
      },
      "source": [
        "#Print numbers from 1 to n"
      ]
    },
    {
      "cell_type": "code",
      "metadata": {
        "id": "lmEhJJAryeQH",
        "colab_type": "code",
        "outputId": "af92fd23-41cb-4ed9-df96-64c40193e76f",
        "colab": {
          "base_uri": "https://localhost:8080/",
          "height": 51
        }
      },
      "source": [
        "n= int(input(\"Enter a number n:\"))\n",
        "i=1\n",
        "while(i<=n):\n",
        "      print(i,end=\" \")\n",
        "      i=i+1\n"
      ],
      "execution_count": 0,
      "outputs": [
        {
          "output_type": "stream",
          "text": [
            "Enter a number n:10\n",
            "1 2 3 4 5 6 7 8 9 10 "
          ],
          "name": "stdout"
        }
      ]
    },
    {
      "cell_type": "code",
      "metadata": {
        "id": "3QFiau7WzWur",
        "colab_type": "code",
        "colab": {}
      },
      "source": [
        ""
      ],
      "execution_count": 0,
      "outputs": []
    },
    {
      "cell_type": "markdown",
      "metadata": {
        "id": "7G36pL-BzZX0",
        "colab_type": "text"
      },
      "source": [
        "#**Print sum of even numbers**"
      ]
    },
    {
      "cell_type": "code",
      "metadata": {
        "id": "VQ4Oz58HzgEy",
        "colab_type": "code",
        "outputId": "bc86ccf7-e966-4fa8-ab9a-e02fc50d0d17",
        "colab": {
          "base_uri": "https://localhost:8080/",
          "height": 51
        }
      },
      "source": [
        "n= int(input(\"Enter n :\"))\n",
        "i=1\n",
        "sum=0\n",
        "while(i<=n):\n",
        "      if(i%2==0):\n",
        "          sum=sum+i\n",
        "          print(i,end=\"+\")\n",
        "      \n",
        "      i=i+1\n",
        "\n",
        "print(\"=\",sum)"
      ],
      "execution_count": 0,
      "outputs": [
        {
          "output_type": "stream",
          "text": [
            "Enter n :10\n",
            "2+4+6+8+10+= 30\n"
          ],
          "name": "stdout"
        }
      ]
    },
    {
      "cell_type": "markdown",
      "metadata": {
        "id": "so5aX_dX2l_K",
        "colab_type": "text"
      },
      "source": [
        "#**Palindrome**\n"
      ]
    },
    {
      "cell_type": "code",
      "metadata": {
        "id": "u3SuObBp2pYe",
        "colab_type": "code",
        "outputId": "fca3d7a5-093a-4a2a-f371-6aaa0836207d",
        "colab": {
          "base_uri": "https://localhost:8080/",
          "height": 68
        }
      },
      "source": [
        "n=int(input(\"Enter n value :\"))\n",
        "t=n\n",
        "rev=0\n",
        "while(n!=0):\n",
        "      rem=n%10\n",
        "      rev=rev*10 + rem\n",
        "      n=n//10\n",
        "print(rev)\n",
        "if(t==rev):\n",
        "      print(t,\"is a palindrome\")\n",
        "else:\n",
        "      print(t,\"is not a palindrome\")\n"
      ],
      "execution_count": 0,
      "outputs": [
        {
          "output_type": "stream",
          "text": [
            "Enter n value :12321\n",
            "12321\n",
            "12321 is a palindrome\n"
          ],
          "name": "stdout"
        }
      ]
    },
    {
      "cell_type": "markdown",
      "metadata": {
        "id": "NlIlP1IJ9L0A",
        "colab_type": "text"
      },
      "source": [
        "#**Functional Programing**\n",
        " - simple\n",
        " -easy to understand\n",
        " - reusability\n",
        " - Lengthy program can be divided into small sub programs"
      ]
    },
    {
      "cell_type": "code",
      "metadata": {
        "id": "tK4pxVB-9k2X",
        "colab_type": "code",
        "colab": {}
      },
      "source": [
        "def nameofthefunction(<parameter>):\n",
        "    statements\n",
        "    return"
      ],
      "execution_count": 0,
      "outputs": []
    },
    {
      "cell_type": "code",
      "metadata": {
        "id": "xNGx8atY-d1Z",
        "colab_type": "code",
        "outputId": "d54a44da-a2af-4698-bf7a-296838164f0f",
        "colab": {
          "base_uri": "https://localhost:8080/",
          "height": 34
        }
      },
      "source": [
        "#Print sum of even digits\n",
        "#input:1234\n",
        "#output:2+4=6\n",
        "def sumofevendigits(n):\n",
        "  s=0\n",
        "  while(n!=0):\n",
        "    r=n%10\n",
        "    if(r%2==0):\n",
        "      s=s+r\n",
        "    n=n//10\n",
        "  return s\n",
        "sumofevendigits(1234)\n"
      ],
      "execution_count": 0,
      "outputs": [
        {
          "output_type": "execute_result",
          "data": {
            "text/plain": [
              "6"
            ]
          },
          "metadata": {
            "tags": []
          },
          "execution_count": 30
        }
      ]
    },
    {
      "cell_type": "code",
      "metadata": {
        "id": "0F4Jjayg_W_8",
        "colab_type": "code",
        "colab": {
          "base_uri": "https://localhost:8080/",
          "height": 51
        },
        "outputId": "2aa636ed-9f61-4b26-8fdc-f797a3e46fe0"
      },
      "source": [
        "#to find largset digit in a number\n",
        "\n",
        "def largestdigit(n):\n",
        "  r1=0\n",
        "  while(n!=0):\n",
        "    r=n%10\n",
        "    if(r>r1):\n",
        "      r1=r \n",
        "    else:\n",
        "      n=n//10\n",
        "  return r1\n",
        "n=int(input(\"Enter a number:\"))\n",
        "largestdigit(n)"
      ],
      "execution_count": 40,
      "outputs": [
        {
          "output_type": "stream",
          "text": [
            "Enter a number:1234567890\n"
          ],
          "name": "stdout"
        },
        {
          "output_type": "execute_result",
          "data": {
            "text/plain": [
              "9"
            ]
          },
          "metadata": {
            "tags": []
          },
          "execution_count": 40
        }
      ]
    },
    {
      "cell_type": "markdown",
      "metadata": {
        "id": "abi4VuI9IbLx",
        "colab_type": "text"
      },
      "source": [
        "#**For loop**\n",
        "# Syntax:\n",
        "## for in range(start,stop,step)\n",
        "      statements"
      ]
    },
    {
      "cell_type": "code",
      "metadata": {
        "id": "57BXwPGEJLVJ",
        "colab_type": "code",
        "colab": {
          "base_uri": "https://localhost:8080/",
          "height": 34
        },
        "outputId": "4d5fed53-66d8-4fa2-f333-d14915539f8e"
      },
      "source": [
        "#Using function print the numbers in limits\n",
        "#input 11 and 25\n",
        "#output 11 12 ... 25\n",
        "\n",
        "def printinrange(f,l):\n",
        "  for i in range(f,l+1):\n",
        "    print(i,end=\" \")\n",
        "  return\n",
        "printinrange(11,25)"
      ],
      "execution_count": 44,
      "outputs": [
        {
          "output_type": "stream",
          "text": [
            "11 12 13 14 15 16 17 18 19 20 21 22 23 24 25 "
          ],
          "name": "stdout"
        }
      ]
    },
    {
      "cell_type": "code",
      "metadata": {
        "id": "s0stFXqsJ1J_",
        "colab_type": "code",
        "colab": {
          "base_uri": "https://localhost:8080/",
          "height": 34
        },
        "outputId": "c9625bd6-5e9d-4b6a-ef31-de43795d95ea"
      },
      "source": [
        "#input:500,520\n",
        "#output:500,504,508....520\n",
        "\n",
        "def limits(f,l):\n",
        "  for i in range(f,l+1,4):\n",
        "      print(i,end=\" \")\n",
        "  return \n",
        "limits(500,520)"
      ],
      "execution_count": 53,
      "outputs": [
        {
          "output_type": "stream",
          "text": [
            "500 504 508 512 516 520 "
          ],
          "name": "stdout"
        }
      ]
    },
    {
      "cell_type": "markdown",
      "metadata": {
        "id": "Jur0dmZgMzyk",
        "colab_type": "text"
      },
      "source": [
        "#**Collection Types**\n",
        "- List\n",
        "- Tuple\n",
        "-Dictionary"
      ]
    },
    {
      "cell_type": "markdown",
      "metadata": {
        "id": "h9oipusEM9tX",
        "colab_type": "text"
      },
      "source": [
        "#List\n",
        "\n",
        "---\n",
        "\n",
        "\n",
        "- One of data structure in python\n",
        "-Data structure makes to store,sort and search options\n",
        "-it is one common data structure in python the items of the list are seperated by comma and enclosed by square brackets\n",
        "-List is mutable(i.e values can change)\n",
        "-Ex: list1=[1,2,3,4,5],list=[\"JNTUA\",\"Das\",\"asds\"]\n",
        "\n"
      ]
    },
    {
      "cell_type": "code",
      "metadata": {
        "id": "G3mLc5SwO_50",
        "colab_type": "code",
        "colab": {
          "base_uri": "https://localhost:8080/",
          "height": 153
        },
        "outputId": "e302218c-c78d-4388-ccd0-70fca309ef85"
      },
      "source": [
        "li=[1,2,3,5,6,8]\n",
        "print(li)\n",
        "print(li[1])\n",
        "print(li[-1])\n",
        "print(li[2:])\n",
        "print(li[:2])\n",
        "print(li[3:5])\n",
        "print(li[-4:-1])\n",
        "print(li[::2])\n"
      ],
      "execution_count": 69,
      "outputs": [
        {
          "output_type": "stream",
          "text": [
            "[1, 2, 3, 5, 6, 8]\n",
            "2\n",
            "8\n",
            "[3, 5, 6, 8]\n",
            "[1, 2]\n",
            "[5, 6]\n",
            "[3, 5, 6]\n",
            "[1, 3, 6]\n"
          ],
          "name": "stdout"
        }
      ]
    },
    {
      "cell_type": "code",
      "metadata": {
        "id": "2fPY5AnDPMKM",
        "colab_type": "code",
        "colab": {
          "base_uri": "https://localhost:8080/",
          "height": 102
        },
        "outputId": "c06f73c0-d4ab-40fc-db7f-5204f745481c"
      },
      "source": [
        "li=[\"JNTUA\",8,\"ATP\",5,4]\n",
        "print(li)\n",
        "li[1]=88\n",
        "print(li)\n",
        "\n",
        "#deleteing list item\n",
        "\n",
        "del li[4]\n",
        "print(li)\n",
        "\n",
        "#Basic list operations\n",
        "\n",
        "print(li*2)\n",
        "\n",
        "print(5 in li)"
      ],
      "execution_count": 74,
      "outputs": [
        {
          "output_type": "stream",
          "text": [
            "['JNTUA', 8, 'ATP', 5, 4]\n",
            "['JNTUA', 88, 'ATP', 5, 4]\n",
            "['JNTUA', 88, 'ATP', 5]\n",
            "['JNTUA', 88, 'ATP', 5, 'JNTUA', 88, 'ATP', 5]\n",
            "True\n"
          ],
          "name": "stdout"
        }
      ]
    },
    {
      "cell_type": "markdown",
      "metadata": {
        "id": "lvB9EQjheGxq",
        "colab_type": "text"
      },
      "source": [
        "#**List Functions**\n",
        "\n",
        "- max\n",
        "-min\n",
        "-sum\n",
        "-append\n",
        "-insert\n",
        "-count\n",
        "-index\n",
        "-sort\n",
        "-pop\n"
      ]
    },
    {
      "cell_type": "code",
      "metadata": {
        "id": "6V7h5Lr2fLjQ",
        "colab_type": "code",
        "colab": {
          "base_uri": "https://localhost:8080/",
          "height": 231
        },
        "outputId": "e3938408-b85d-4751-ae61-8d59fab8d425"
      },
      "source": [
        "li=[1,2,3,4,5,6]\n",
        "print(max(li))\n",
        "print(min(li))\n",
        "print(sum(li))\n"
      ],
      "execution_count": 84,
      "outputs": [
        {
          "output_type": "stream",
          "text": [
            "6\n",
            "1\n"
          ],
          "name": "stdout"
        },
        {
          "output_type": "error",
          "ename": "TypeError",
          "evalue": "ignored",
          "traceback": [
            "\u001b[0;31m---------------------------------------------------------------------------\u001b[0m",
            "\u001b[0;31mTypeError\u001b[0m                                 Traceback (most recent call last)",
            "\u001b[0;32m<ipython-input-84-2b60b426b344>\u001b[0m in \u001b[0;36m<module>\u001b[0;34m()\u001b[0m\n\u001b[1;32m      2\u001b[0m \u001b[0mprint\u001b[0m\u001b[0;34m(\u001b[0m\u001b[0mmax\u001b[0m\u001b[0;34m(\u001b[0m\u001b[0mli\u001b[0m\u001b[0;34m)\u001b[0m\u001b[0;34m)\u001b[0m\u001b[0;34m\u001b[0m\u001b[0;34m\u001b[0m\u001b[0m\n\u001b[1;32m      3\u001b[0m \u001b[0mprint\u001b[0m\u001b[0;34m(\u001b[0m\u001b[0mmin\u001b[0m\u001b[0;34m(\u001b[0m\u001b[0mli\u001b[0m\u001b[0;34m)\u001b[0m\u001b[0;34m)\u001b[0m\u001b[0;34m\u001b[0m\u001b[0;34m\u001b[0m\u001b[0m\n\u001b[0;32m----> 4\u001b[0;31m \u001b[0mprint\u001b[0m\u001b[0;34m(\u001b[0m\u001b[0msum\u001b[0m\u001b[0;34m(\u001b[0m\u001b[0mli\u001b[0m\u001b[0;34m)\u001b[0m\u001b[0;34m)\u001b[0m\u001b[0;34m\u001b[0m\u001b[0;34m\u001b[0m\u001b[0m\n\u001b[0m",
            "\u001b[0;31mTypeError\u001b[0m: 'int' object is not callable"
          ]
        }
      ]
    },
    {
      "cell_type": "code",
      "metadata": {
        "id": "X27k4rSzfRlu",
        "colab_type": "code",
        "colab": {}
      },
      "source": [
        ""
      ],
      "execution_count": 0,
      "outputs": []
    }
  ]
}